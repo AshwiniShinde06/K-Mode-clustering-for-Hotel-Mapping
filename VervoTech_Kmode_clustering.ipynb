{
 "cells": [
  {
   "cell_type": "markdown",
   "id": "f8e9582d",
   "metadata": {},
   "source": [
    "# K-Mode Clustering on Hotel Mapping  Dataset"
   ]
  },
  {
   "cell_type": "markdown",
   "id": "4fbee00e",
   "metadata": {},
   "source": [
    "K-mode clustering is an unsupervised machine-learning technique used to group a set of data objects into a specified number of clusters, based on their categorical attributes. The algorithm is called “K-Mode” because it uses modes (i.e. the most frequent values) instead of means or medians to represent the clusters."
   ]
  },
  {
   "cell_type": "markdown",
   "id": "7f93cc78",
   "metadata": {},
   "source": [
    "# 1.Read and Explore the dataset"
   ]
  },
  {
   "cell_type": "code",
   "execution_count": 51,
   "id": "bb55fc2f",
   "metadata": {},
   "outputs": [],
   "source": [
    "# Importing libraries\n",
    "import pandas as pd\n",
    "import numpy as np\n",
    "import matplotlib.pyplot as plt\n",
    "import seaborn as sns"
   ]
  },
  {
   "cell_type": "code",
   "execution_count": 52,
   "id": "34e1577d",
   "metadata": {},
   "outputs": [
    {
     "data": {
      "text/html": [
       "<div>\n",
       "<style scoped>\n",
       "    .dataframe tbody tr th:only-of-type {\n",
       "        vertical-align: middle;\n",
       "    }\n",
       "\n",
       "    .dataframe tbody tr th {\n",
       "        vertical-align: top;\n",
       "    }\n",
       "\n",
       "    .dataframe thead th {\n",
       "        text-align: right;\n",
       "    }\n",
       "</style>\n",
       "<table border=\"1\" class=\"dataframe\">\n",
       "  <thead>\n",
       "    <tr style=\"text-align: right;\">\n",
       "      <th></th>\n",
       "      <th>VervotechId</th>\n",
       "      <th>HotelName</th>\n",
       "      <th>Provider</th>\n",
       "      <th>ProviderHotelId</th>\n",
       "      <th>ProviderRoomCode</th>\n",
       "      <th>ProviderRoomName</th>\n",
       "      <th>ProviderBedInfo</th>\n",
       "      <th>ProviderAttributesInfo</th>\n",
       "      <th>ProviderViewInfo</th>\n",
       "    </tr>\n",
       "  </thead>\n",
       "  <tbody>\n",
       "    <tr>\n",
       "      <th>0</th>\n",
       "      <td>39688211</td>\n",
       "      <td>Bellagio</td>\n",
       "      <td>BookingCom</td>\n",
       "      <td>186104.0</td>\n",
       "      <td>18610405.0</td>\n",
       "      <td>Bellagio Suite</td>\n",
       "      <td>King bed(s)</td>\n",
       "      <td>RoomSize=94.76 squaremeter</td>\n",
       "      <td>NaN</td>\n",
       "    </tr>\n",
       "    <tr>\n",
       "      <th>1</th>\n",
       "      <td>39688211</td>\n",
       "      <td>Bellagio</td>\n",
       "      <td>EAN</td>\n",
       "      <td>140596.0</td>\n",
       "      <td>201646682.0</td>\n",
       "      <td>Bellagio Suite</td>\n",
       "      <td>King</td>\n",
       "      <td>RoomSize=1020 squarefeet</td>\n",
       "      <td>NaN</td>\n",
       "    </tr>\n",
       "    <tr>\n",
       "      <th>2</th>\n",
       "      <td>39688211</td>\n",
       "      <td>Bellagio</td>\n",
       "      <td>Priceline</td>\n",
       "      <td>700076943.0</td>\n",
       "      <td>900316366.0</td>\n",
       "      <td>Bellagio Suite</td>\n",
       "      <td>KING</td>\n",
       "      <td>RoomSize=1020 squarefeet|HasSofaBed=Yes</td>\n",
       "      <td>NaN</td>\n",
       "    </tr>\n",
       "    <tr>\n",
       "      <th>3</th>\n",
       "      <td>39688211</td>\n",
       "      <td>Bellagio</td>\n",
       "      <td>EAN</td>\n",
       "      <td>140596.0</td>\n",
       "      <td>212405074.0</td>\n",
       "      <td>Two Bedroom Bellagio Suite</td>\n",
       "      <td>2King</td>\n",
       "      <td>RoomSize=1530 squarefeet|SmokingAllowed=NotAll...</td>\n",
       "      <td>NaN</td>\n",
       "    </tr>\n",
       "    <tr>\n",
       "      <th>4</th>\n",
       "      <td>39688211</td>\n",
       "      <td>Bellagio</td>\n",
       "      <td>BookingCom</td>\n",
       "      <td>186104.0</td>\n",
       "      <td>18610427.0</td>\n",
       "      <td>Bellagio Two Queen Suite</td>\n",
       "      <td>2Queen bed(s)</td>\n",
       "      <td>RoomSize=94.76 squaremeter</td>\n",
       "      <td>NaN</td>\n",
       "    </tr>\n",
       "  </tbody>\n",
       "</table>\n",
       "</div>"
      ],
      "text/plain": [
       "  VervotechId HotelName    Provider  ProviderHotelId  ProviderRoomCode  \\\n",
       "0    39688211  Bellagio  BookingCom         186104.0        18610405.0   \n",
       "1    39688211  Bellagio         EAN         140596.0       201646682.0   \n",
       "2    39688211  Bellagio   Priceline      700076943.0       900316366.0   \n",
       "3    39688211  Bellagio         EAN         140596.0       212405074.0   \n",
       "4    39688211  Bellagio  BookingCom         186104.0        18610427.0   \n",
       "\n",
       "             ProviderRoomName ProviderBedInfo  \\\n",
       "0              Bellagio Suite     King bed(s)   \n",
       "1              Bellagio Suite            King   \n",
       "2              Bellagio Suite            KING   \n",
       "3  Two Bedroom Bellagio Suite           2King   \n",
       "4    Bellagio Two Queen Suite   2Queen bed(s)   \n",
       "\n",
       "                              ProviderAttributesInfo ProviderViewInfo  \n",
       "0                         RoomSize=94.76 squaremeter              NaN  \n",
       "1                           RoomSize=1020 squarefeet              NaN  \n",
       "2            RoomSize=1020 squarefeet|HasSofaBed=Yes              NaN  \n",
       "3  RoomSize=1530 squarefeet|SmokingAllowed=NotAll...              NaN  \n",
       "4                         RoomSize=94.76 squaremeter              NaN  "
      ]
     },
     "execution_count": 52,
     "metadata": {},
     "output_type": "execute_result"
    }
   ],
   "source": [
    "VTech=pd.read_csv('sample-room-data_recreated.csv', encoding= 'unicode_escape', sep=\",\",skiprows=0, low_memory=False)\n",
    "VTech.head()"
   ]
  },
  {
   "cell_type": "code",
   "execution_count": 53,
   "id": "be1dd37a",
   "metadata": {},
   "outputs": [
    {
     "name": "stdout",
     "output_type": "stream",
     "text": [
      "<class 'pandas.core.frame.DataFrame'>\n",
      "RangeIndex: 39692 entries, 0 to 39691\n",
      "Data columns (total 9 columns):\n",
      " #   Column                  Non-Null Count  Dtype  \n",
      "---  ------                  --------------  -----  \n",
      " 0   VervotechId             39692 non-null  object \n",
      " 1   HotelName               39692 non-null  object \n",
      " 2   Provider                39690 non-null  object \n",
      " 3   ProviderHotelId         39690 non-null  float64\n",
      " 4   ProviderRoomCode        39690 non-null  float64\n",
      " 5   ProviderRoomName        39690 non-null  object \n",
      " 6   ProviderBedInfo         36391 non-null  object \n",
      " 7   ProviderAttributesInfo  39625 non-null  object \n",
      " 8   ProviderViewInfo        3996 non-null   object \n",
      "dtypes: float64(2), object(7)\n",
      "memory usage: 2.7+ MB\n"
     ]
    }
   ],
   "source": [
    "VTech.info()"
   ]
  },
  {
   "cell_type": "code",
   "execution_count": 54,
   "id": "31b408ea",
   "metadata": {},
   "outputs": [
    {
     "data": {
      "text/html": [
       "<div>\n",
       "<style scoped>\n",
       "    .dataframe tbody tr th:only-of-type {\n",
       "        vertical-align: middle;\n",
       "    }\n",
       "\n",
       "    .dataframe tbody tr th {\n",
       "        vertical-align: top;\n",
       "    }\n",
       "\n",
       "    .dataframe thead th {\n",
       "        text-align: right;\n",
       "    }\n",
       "</style>\n",
       "<table border=\"1\" class=\"dataframe\">\n",
       "  <thead>\n",
       "    <tr style=\"text-align: right;\">\n",
       "      <th></th>\n",
       "      <th>ProviderHotelId</th>\n",
       "      <th>ProviderRoomCode</th>\n",
       "    </tr>\n",
       "  </thead>\n",
       "  <tbody>\n",
       "    <tr>\n",
       "      <th>count</th>\n",
       "      <td>3.969000e+04</td>\n",
       "      <td>3.969000e+04</td>\n",
       "    </tr>\n",
       "    <tr>\n",
       "      <th>mean</th>\n",
       "      <td>2.077902e+08</td>\n",
       "      <td>3.602785e+08</td>\n",
       "    </tr>\n",
       "    <tr>\n",
       "      <th>std</th>\n",
       "      <td>3.176684e+08</td>\n",
       "      <td>3.632262e+08</td>\n",
       "    </tr>\n",
       "    <tr>\n",
       "      <th>min</th>\n",
       "      <td>9.900000e+01</td>\n",
       "      <td>1.290000e+02</td>\n",
       "    </tr>\n",
       "    <tr>\n",
       "      <th>25%</th>\n",
       "      <td>9.569700e+04</td>\n",
       "      <td>3.104382e+07</td>\n",
       "    </tr>\n",
       "    <tr>\n",
       "      <th>50%</th>\n",
       "      <td>1.208242e+06</td>\n",
       "      <td>2.020710e+08</td>\n",
       "    </tr>\n",
       "    <tr>\n",
       "      <th>75%</th>\n",
       "      <td>7.000233e+08</td>\n",
       "      <td>9.000980e+08</td>\n",
       "    </tr>\n",
       "    <tr>\n",
       "      <th>max</th>\n",
       "      <td>7.051761e+08</td>\n",
       "      <td>9.053906e+08</td>\n",
       "    </tr>\n",
       "  </tbody>\n",
       "</table>\n",
       "</div>"
      ],
      "text/plain": [
       "       ProviderHotelId  ProviderRoomCode\n",
       "count     3.969000e+04      3.969000e+04\n",
       "mean      2.077902e+08      3.602785e+08\n",
       "std       3.176684e+08      3.632262e+08\n",
       "min       9.900000e+01      1.290000e+02\n",
       "25%       9.569700e+04      3.104382e+07\n",
       "50%       1.208242e+06      2.020710e+08\n",
       "75%       7.000233e+08      9.000980e+08\n",
       "max       7.051761e+08      9.053906e+08"
      ]
     },
     "execution_count": 54,
     "metadata": {},
     "output_type": "execute_result"
    }
   ],
   "source": [
    "VTech.describe()"
   ]
  },
  {
   "cell_type": "code",
   "execution_count": 55,
   "id": "8a1c0e5d",
   "metadata": {},
   "outputs": [
    {
     "data": {
      "text/plain": [
       "Index(['VervotechId', 'HotelName', 'Provider', 'ProviderHotelId',\n",
       "       'ProviderRoomCode', 'ProviderRoomName', 'ProviderBedInfo',\n",
       "       'ProviderAttributesInfo', 'ProviderViewInfo'],\n",
       "      dtype='object')"
      ]
     },
     "execution_count": 55,
     "metadata": {},
     "output_type": "execute_result"
    }
   ],
   "source": [
    "VTech.columns"
   ]
  },
  {
   "cell_type": "code",
   "execution_count": 56,
   "id": "974cd181",
   "metadata": {},
   "outputs": [
    {
     "data": {
      "text/plain": [
       "pandas.core.frame.DataFrame"
      ]
     },
     "execution_count": 56,
     "metadata": {},
     "output_type": "execute_result"
    }
   ],
   "source": [
    "type(VTech)"
   ]
  },
  {
   "cell_type": "markdown",
   "id": "88216f8e",
   "metadata": {},
   "source": [
    "# 2. Data cleaning "
   ]
  },
  {
   "cell_type": "code",
   "execution_count": 57,
   "id": "c6e7b248",
   "metadata": {},
   "outputs": [
    {
     "data": {
      "text/html": [
       "<div>\n",
       "<style scoped>\n",
       "    .dataframe tbody tr th:only-of-type {\n",
       "        vertical-align: middle;\n",
       "    }\n",
       "\n",
       "    .dataframe tbody tr th {\n",
       "        vertical-align: top;\n",
       "    }\n",
       "\n",
       "    .dataframe thead th {\n",
       "        text-align: right;\n",
       "    }\n",
       "</style>\n",
       "<table border=\"1\" class=\"dataframe\">\n",
       "  <thead>\n",
       "    <tr style=\"text-align: right;\">\n",
       "      <th></th>\n",
       "      <th>VervotechId</th>\n",
       "      <th>HotelName</th>\n",
       "      <th>Provider</th>\n",
       "      <th>ProviderHotelId</th>\n",
       "      <th>ProviderRoomCode</th>\n",
       "      <th>ProviderRoomName</th>\n",
       "      <th>ProviderBedInfo</th>\n",
       "      <th>ProviderAttributesInfo</th>\n",
       "      <th>ProviderViewInfo</th>\n",
       "    </tr>\n",
       "  </thead>\n",
       "  <tbody>\n",
       "    <tr>\n",
       "      <th>0</th>\n",
       "      <td>39688211</td>\n",
       "      <td>Bellagio</td>\n",
       "      <td>BookingCom</td>\n",
       "      <td>186104.0</td>\n",
       "      <td>18610405.0</td>\n",
       "      <td>Bellagio Suite</td>\n",
       "      <td>King bed(s)</td>\n",
       "      <td>RoomSize=94.76 squaremeter</td>\n",
       "      <td>NaN</td>\n",
       "    </tr>\n",
       "    <tr>\n",
       "      <th>1</th>\n",
       "      <td>39688211</td>\n",
       "      <td>Bellagio</td>\n",
       "      <td>EAN</td>\n",
       "      <td>140596.0</td>\n",
       "      <td>201646682.0</td>\n",
       "      <td>Bellagio Suite</td>\n",
       "      <td>King</td>\n",
       "      <td>RoomSize=1020 squarefeet</td>\n",
       "      <td>NaN</td>\n",
       "    </tr>\n",
       "    <tr>\n",
       "      <th>2</th>\n",
       "      <td>39688211</td>\n",
       "      <td>Bellagio</td>\n",
       "      <td>Priceline</td>\n",
       "      <td>700076943.0</td>\n",
       "      <td>900316366.0</td>\n",
       "      <td>Bellagio Suite</td>\n",
       "      <td>KING</td>\n",
       "      <td>RoomSize=1020 squarefeet|HasSofaBed=Yes</td>\n",
       "      <td>NaN</td>\n",
       "    </tr>\n",
       "    <tr>\n",
       "      <th>3</th>\n",
       "      <td>39688211</td>\n",
       "      <td>Bellagio</td>\n",
       "      <td>EAN</td>\n",
       "      <td>140596.0</td>\n",
       "      <td>212405074.0</td>\n",
       "      <td>Two Bedroom Bellagio Suite</td>\n",
       "      <td>2King</td>\n",
       "      <td>RoomSize=1530 squarefeet|SmokingAllowed=NotAll...</td>\n",
       "      <td>NaN</td>\n",
       "    </tr>\n",
       "    <tr>\n",
       "      <th>4</th>\n",
       "      <td>39688211</td>\n",
       "      <td>Bellagio</td>\n",
       "      <td>BookingCom</td>\n",
       "      <td>186104.0</td>\n",
       "      <td>18610427.0</td>\n",
       "      <td>Bellagio Two Queen Suite</td>\n",
       "      <td>2Queen bed(s)</td>\n",
       "      <td>RoomSize=94.76 squaremeter</td>\n",
       "      <td>NaN</td>\n",
       "    </tr>\n",
       "  </tbody>\n",
       "</table>\n",
       "</div>"
      ],
      "text/plain": [
       "  VervotechId HotelName    Provider  ProviderHotelId  ProviderRoomCode  \\\n",
       "0    39688211  Bellagio  BookingCom         186104.0        18610405.0   \n",
       "1    39688211  Bellagio         EAN         140596.0       201646682.0   \n",
       "2    39688211  Bellagio   Priceline      700076943.0       900316366.0   \n",
       "3    39688211  Bellagio         EAN         140596.0       212405074.0   \n",
       "4    39688211  Bellagio  BookingCom         186104.0        18610427.0   \n",
       "\n",
       "             ProviderRoomName ProviderBedInfo  \\\n",
       "0              Bellagio Suite     King bed(s)   \n",
       "1              Bellagio Suite            King   \n",
       "2              Bellagio Suite            KING   \n",
       "3  Two Bedroom Bellagio Suite           2King   \n",
       "4    Bellagio Two Queen Suite   2Queen bed(s)   \n",
       "\n",
       "                              ProviderAttributesInfo ProviderViewInfo  \n",
       "0                         RoomSize=94.76 squaremeter              NaN  \n",
       "1                           RoomSize=1020 squarefeet              NaN  \n",
       "2            RoomSize=1020 squarefeet|HasSofaBed=Yes              NaN  \n",
       "3  RoomSize=1530 squarefeet|SmokingAllowed=NotAll...              NaN  \n",
       "4                         RoomSize=94.76 squaremeter              NaN  "
      ]
     },
     "execution_count": 57,
     "metadata": {},
     "output_type": "execute_result"
    }
   ],
   "source": [
    "VTech.head()"
   ]
  },
  {
   "cell_type": "markdown",
   "id": "9b698b57",
   "metadata": {},
   "source": [
    "2.1 Fixing the rows and columns"
   ]
  },
  {
   "cell_type": "code",
   "execution_count": 58,
   "id": "5efc4a04",
   "metadata": {},
   "outputs": [],
   "source": [
    "VTech[\"Smoking\"] = VTech[\"ProviderAttributesInfo\"].str.extract(\"(SmokingAllowed=NotAllowed|SmokingAllowed=Allowed)\")[0]"
   ]
  },
  {
   "cell_type": "code",
   "execution_count": 59,
   "id": "2e92e27f",
   "metadata": {},
   "outputs": [],
   "source": [
    "VTech[\"Balcony\"] = VTech[\"ProviderAttributesInfo\"].str.extract(\"(HasBalcony=Yes|HasBalcony=No)\")[0]"
   ]
  },
  {
   "cell_type": "code",
   "execution_count": 60,
   "id": "41fa77a9",
   "metadata": {},
   "outputs": [],
   "source": [
    "VTech[\"Kitchen\"] = VTech[\"ProviderAttributesInfo\"].str.extract(\"(HasKitchen=Yes|HasKitchen=No)\")[0]"
   ]
  },
  {
   "cell_type": "code",
   "execution_count": 61,
   "id": "ba886333",
   "metadata": {},
   "outputs": [],
   "source": [
    "VTech[\"SofaBed\"] = VTech[\"ProviderAttributesInfo\"].str.extract(\"(HasSofaBed=Yes|HasSofaBed=No)\")[0]"
   ]
  },
  {
   "cell_type": "code",
   "execution_count": 62,
   "id": "25e88117",
   "metadata": {},
   "outputs": [],
   "source": [
    "VTech[\"RoomSize\"] = VTech[\"ProviderAttributesInfo\"].str.extractall(\"(\\d*\\.?\\d+)\").unstack().fillna('').sum(axis=1).astype(float)"
   ]
  },
  {
   "cell_type": "code",
   "execution_count": 63,
   "id": "cc067222",
   "metadata": {},
   "outputs": [],
   "source": [
    "VTech[\"RoomArea\"] = VTech[\"ProviderAttributesInfo\"].str.extract(\"(squaremeter|squarefeet)\")[0]"
   ]
  },
  {
   "cell_type": "code",
   "execution_count": 64,
   "id": "00c23dab",
   "metadata": {},
   "outputs": [],
   "source": [
    "VTech[\"RoomSizeArea\"] = VTech['RoomSize'].apply(str) +\" \"+ VTech[\"RoomArea\"]"
   ]
  },
  {
   "cell_type": "code",
   "execution_count": 65,
   "id": "3060cc22",
   "metadata": {},
   "outputs": [
    {
     "data": {
      "text/html": [
       "<div>\n",
       "<style scoped>\n",
       "    .dataframe tbody tr th:only-of-type {\n",
       "        vertical-align: middle;\n",
       "    }\n",
       "\n",
       "    .dataframe tbody tr th {\n",
       "        vertical-align: top;\n",
       "    }\n",
       "\n",
       "    .dataframe thead th {\n",
       "        text-align: right;\n",
       "    }\n",
       "</style>\n",
       "<table border=\"1\" class=\"dataframe\">\n",
       "  <thead>\n",
       "    <tr style=\"text-align: right;\">\n",
       "      <th></th>\n",
       "      <th>VervotechId</th>\n",
       "      <th>HotelName</th>\n",
       "      <th>Provider</th>\n",
       "      <th>ProviderHotelId</th>\n",
       "      <th>ProviderRoomCode</th>\n",
       "      <th>ProviderRoomName</th>\n",
       "      <th>ProviderBedInfo</th>\n",
       "      <th>ProviderAttributesInfo</th>\n",
       "      <th>ProviderViewInfo</th>\n",
       "      <th>Smoking</th>\n",
       "      <th>Balcony</th>\n",
       "      <th>Kitchen</th>\n",
       "      <th>SofaBed</th>\n",
       "      <th>RoomSize</th>\n",
       "      <th>RoomArea</th>\n",
       "      <th>RoomSizeArea</th>\n",
       "    </tr>\n",
       "  </thead>\n",
       "  <tbody>\n",
       "    <tr>\n",
       "      <th>0</th>\n",
       "      <td>39688211</td>\n",
       "      <td>Bellagio</td>\n",
       "      <td>BookingCom</td>\n",
       "      <td>186104.0</td>\n",
       "      <td>18610405.0</td>\n",
       "      <td>Bellagio Suite</td>\n",
       "      <td>King bed(s)</td>\n",
       "      <td>RoomSize=94.76 squaremeter</td>\n",
       "      <td>NaN</td>\n",
       "      <td>NaN</td>\n",
       "      <td>NaN</td>\n",
       "      <td>NaN</td>\n",
       "      <td>NaN</td>\n",
       "      <td>94.76</td>\n",
       "      <td>squaremeter</td>\n",
       "      <td>94.76 squaremeter</td>\n",
       "    </tr>\n",
       "    <tr>\n",
       "      <th>1</th>\n",
       "      <td>39688211</td>\n",
       "      <td>Bellagio</td>\n",
       "      <td>EAN</td>\n",
       "      <td>140596.0</td>\n",
       "      <td>201646682.0</td>\n",
       "      <td>Bellagio Suite</td>\n",
       "      <td>King</td>\n",
       "      <td>RoomSize=1020 squarefeet</td>\n",
       "      <td>NaN</td>\n",
       "      <td>NaN</td>\n",
       "      <td>NaN</td>\n",
       "      <td>NaN</td>\n",
       "      <td>NaN</td>\n",
       "      <td>1020.00</td>\n",
       "      <td>squarefeet</td>\n",
       "      <td>1020.0 squarefeet</td>\n",
       "    </tr>\n",
       "    <tr>\n",
       "      <th>2</th>\n",
       "      <td>39688211</td>\n",
       "      <td>Bellagio</td>\n",
       "      <td>Priceline</td>\n",
       "      <td>700076943.0</td>\n",
       "      <td>900316366.0</td>\n",
       "      <td>Bellagio Suite</td>\n",
       "      <td>KING</td>\n",
       "      <td>RoomSize=1020 squarefeet|HasSofaBed=Yes</td>\n",
       "      <td>NaN</td>\n",
       "      <td>NaN</td>\n",
       "      <td>NaN</td>\n",
       "      <td>NaN</td>\n",
       "      <td>HasSofaBed=Yes</td>\n",
       "      <td>1020.00</td>\n",
       "      <td>squarefeet</td>\n",
       "      <td>1020.0 squarefeet</td>\n",
       "    </tr>\n",
       "    <tr>\n",
       "      <th>3</th>\n",
       "      <td>39688211</td>\n",
       "      <td>Bellagio</td>\n",
       "      <td>EAN</td>\n",
       "      <td>140596.0</td>\n",
       "      <td>212405074.0</td>\n",
       "      <td>Two Bedroom Bellagio Suite</td>\n",
       "      <td>2King</td>\n",
       "      <td>RoomSize=1530 squarefeet|SmokingAllowed=NotAll...</td>\n",
       "      <td>NaN</td>\n",
       "      <td>SmokingAllowed=NotAllowed</td>\n",
       "      <td>NaN</td>\n",
       "      <td>NaN</td>\n",
       "      <td>NaN</td>\n",
       "      <td>1530.00</td>\n",
       "      <td>squarefeet</td>\n",
       "      <td>1530.0 squarefeet</td>\n",
       "    </tr>\n",
       "    <tr>\n",
       "      <th>4</th>\n",
       "      <td>39688211</td>\n",
       "      <td>Bellagio</td>\n",
       "      <td>BookingCom</td>\n",
       "      <td>186104.0</td>\n",
       "      <td>18610427.0</td>\n",
       "      <td>Bellagio Two Queen Suite</td>\n",
       "      <td>2Queen bed(s)</td>\n",
       "      <td>RoomSize=94.76 squaremeter</td>\n",
       "      <td>NaN</td>\n",
       "      <td>NaN</td>\n",
       "      <td>NaN</td>\n",
       "      <td>NaN</td>\n",
       "      <td>NaN</td>\n",
       "      <td>94.76</td>\n",
       "      <td>squaremeter</td>\n",
       "      <td>94.76 squaremeter</td>\n",
       "    </tr>\n",
       "  </tbody>\n",
       "</table>\n",
       "</div>"
      ],
      "text/plain": [
       "  VervotechId HotelName    Provider  ProviderHotelId  ProviderRoomCode  \\\n",
       "0    39688211  Bellagio  BookingCom         186104.0        18610405.0   \n",
       "1    39688211  Bellagio         EAN         140596.0       201646682.0   \n",
       "2    39688211  Bellagio   Priceline      700076943.0       900316366.0   \n",
       "3    39688211  Bellagio         EAN         140596.0       212405074.0   \n",
       "4    39688211  Bellagio  BookingCom         186104.0        18610427.0   \n",
       "\n",
       "             ProviderRoomName ProviderBedInfo  \\\n",
       "0              Bellagio Suite     King bed(s)   \n",
       "1              Bellagio Suite            King   \n",
       "2              Bellagio Suite            KING   \n",
       "3  Two Bedroom Bellagio Suite           2King   \n",
       "4    Bellagio Two Queen Suite   2Queen bed(s)   \n",
       "\n",
       "                              ProviderAttributesInfo ProviderViewInfo  \\\n",
       "0                         RoomSize=94.76 squaremeter              NaN   \n",
       "1                           RoomSize=1020 squarefeet              NaN   \n",
       "2            RoomSize=1020 squarefeet|HasSofaBed=Yes              NaN   \n",
       "3  RoomSize=1530 squarefeet|SmokingAllowed=NotAll...              NaN   \n",
       "4                         RoomSize=94.76 squaremeter              NaN   \n",
       "\n",
       "                     Smoking Balcony Kitchen         SofaBed  RoomSize  \\\n",
       "0                        NaN     NaN     NaN             NaN     94.76   \n",
       "1                        NaN     NaN     NaN             NaN   1020.00   \n",
       "2                        NaN     NaN     NaN  HasSofaBed=Yes   1020.00   \n",
       "3  SmokingAllowed=NotAllowed     NaN     NaN             NaN   1530.00   \n",
       "4                        NaN     NaN     NaN             NaN     94.76   \n",
       "\n",
       "      RoomArea       RoomSizeArea  \n",
       "0  squaremeter  94.76 squaremeter  \n",
       "1   squarefeet  1020.0 squarefeet  \n",
       "2   squarefeet  1020.0 squarefeet  \n",
       "3   squarefeet  1530.0 squarefeet  \n",
       "4  squaremeter  94.76 squaremeter  "
      ]
     },
     "execution_count": 65,
     "metadata": {},
     "output_type": "execute_result"
    }
   ],
   "source": [
    "VTech.head()"
   ]
  },
  {
   "cell_type": "markdown",
   "id": "32fc1ac0",
   "metadata": {},
   "source": [
    "2.2 convert all squaremeter units in squarefeet of RoomSizeArea"
   ]
  },
  {
   "cell_type": "code",
   "execution_count": 66,
   "id": "3b484d99",
   "metadata": {},
   "outputs": [
    {
     "name": "stdout",
     "output_type": "stream",
     "text": [
      "<class 'pandas.core.frame.DataFrame'>\n",
      "RangeIndex: 39692 entries, 0 to 39691\n",
      "Data columns (total 16 columns):\n",
      " #   Column                  Non-Null Count  Dtype  \n",
      "---  ------                  --------------  -----  \n",
      " 0   VervotechId             39692 non-null  object \n",
      " 1   HotelName               39692 non-null  object \n",
      " 2   Provider                39690 non-null  object \n",
      " 3   ProviderHotelId         39690 non-null  float64\n",
      " 4   ProviderRoomCode        39690 non-null  float64\n",
      " 5   ProviderRoomName        39690 non-null  object \n",
      " 6   ProviderBedInfo         36391 non-null  object \n",
      " 7   ProviderAttributesInfo  39625 non-null  object \n",
      " 8   ProviderViewInfo        3996 non-null   object \n",
      " 9   Smoking                 13812 non-null  object \n",
      " 10  Balcony                 3350 non-null   object \n",
      " 11  Kitchen                 1715 non-null   object \n",
      " 12  SofaBed                 7286 non-null   object \n",
      " 13  RoomSize                35180 non-null  float64\n",
      " 14  RoomArea                35177 non-null  object \n",
      " 15  RoomSizeArea            35177 non-null  object \n",
      "dtypes: float64(3), object(13)\n",
      "memory usage: 4.8+ MB\n"
     ]
    }
   ],
   "source": [
    "VTech.info()"
   ]
  },
  {
   "cell_type": "code",
   "execution_count": 67,
   "id": "a4f789f4",
   "metadata": {},
   "outputs": [],
   "source": [
    "VTech['RoomSize'] = VTech['RoomSize'].astype(float)"
   ]
  },
  {
   "cell_type": "code",
   "execution_count": 68,
   "id": "4dc9f17a",
   "metadata": {},
   "outputs": [],
   "source": [
    "VTech['RoomInSquareFeet'] = np.where((VTech['RoomArea'] == \"squaremeter\"), VTech['RoomSize'] * 10.7639, VTech['RoomSize'])"
   ]
  },
  {
   "cell_type": "code",
   "execution_count": 69,
   "id": "327387bc",
   "metadata": {},
   "outputs": [
    {
     "data": {
      "text/html": [
       "<div>\n",
       "<style scoped>\n",
       "    .dataframe tbody tr th:only-of-type {\n",
       "        vertical-align: middle;\n",
       "    }\n",
       "\n",
       "    .dataframe tbody tr th {\n",
       "        vertical-align: top;\n",
       "    }\n",
       "\n",
       "    .dataframe thead th {\n",
       "        text-align: right;\n",
       "    }\n",
       "</style>\n",
       "<table border=\"1\" class=\"dataframe\">\n",
       "  <thead>\n",
       "    <tr style=\"text-align: right;\">\n",
       "      <th></th>\n",
       "      <th>VervotechId</th>\n",
       "      <th>HotelName</th>\n",
       "      <th>Provider</th>\n",
       "      <th>ProviderHotelId</th>\n",
       "      <th>ProviderRoomCode</th>\n",
       "      <th>ProviderRoomName</th>\n",
       "      <th>ProviderBedInfo</th>\n",
       "      <th>ProviderAttributesInfo</th>\n",
       "      <th>ProviderViewInfo</th>\n",
       "      <th>Smoking</th>\n",
       "      <th>Balcony</th>\n",
       "      <th>Kitchen</th>\n",
       "      <th>SofaBed</th>\n",
       "      <th>RoomSize</th>\n",
       "      <th>RoomArea</th>\n",
       "      <th>RoomSizeArea</th>\n",
       "      <th>RoomInSquareFeet</th>\n",
       "    </tr>\n",
       "  </thead>\n",
       "  <tbody>\n",
       "    <tr>\n",
       "      <th>0</th>\n",
       "      <td>39688211</td>\n",
       "      <td>Bellagio</td>\n",
       "      <td>BookingCom</td>\n",
       "      <td>186104.0</td>\n",
       "      <td>18610405.0</td>\n",
       "      <td>Bellagio Suite</td>\n",
       "      <td>King bed(s)</td>\n",
       "      <td>RoomSize=94.76 squaremeter</td>\n",
       "      <td>NaN</td>\n",
       "      <td>NaN</td>\n",
       "      <td>NaN</td>\n",
       "      <td>NaN</td>\n",
       "      <td>NaN</td>\n",
       "      <td>94.76</td>\n",
       "      <td>squaremeter</td>\n",
       "      <td>94.76 squaremeter</td>\n",
       "      <td>1019.987164</td>\n",
       "    </tr>\n",
       "    <tr>\n",
       "      <th>1</th>\n",
       "      <td>39688211</td>\n",
       "      <td>Bellagio</td>\n",
       "      <td>EAN</td>\n",
       "      <td>140596.0</td>\n",
       "      <td>201646682.0</td>\n",
       "      <td>Bellagio Suite</td>\n",
       "      <td>King</td>\n",
       "      <td>RoomSize=1020 squarefeet</td>\n",
       "      <td>NaN</td>\n",
       "      <td>NaN</td>\n",
       "      <td>NaN</td>\n",
       "      <td>NaN</td>\n",
       "      <td>NaN</td>\n",
       "      <td>1020.00</td>\n",
       "      <td>squarefeet</td>\n",
       "      <td>1020.0 squarefeet</td>\n",
       "      <td>1020.000000</td>\n",
       "    </tr>\n",
       "    <tr>\n",
       "      <th>2</th>\n",
       "      <td>39688211</td>\n",
       "      <td>Bellagio</td>\n",
       "      <td>Priceline</td>\n",
       "      <td>700076943.0</td>\n",
       "      <td>900316366.0</td>\n",
       "      <td>Bellagio Suite</td>\n",
       "      <td>KING</td>\n",
       "      <td>RoomSize=1020 squarefeet|HasSofaBed=Yes</td>\n",
       "      <td>NaN</td>\n",
       "      <td>NaN</td>\n",
       "      <td>NaN</td>\n",
       "      <td>NaN</td>\n",
       "      <td>HasSofaBed=Yes</td>\n",
       "      <td>1020.00</td>\n",
       "      <td>squarefeet</td>\n",
       "      <td>1020.0 squarefeet</td>\n",
       "      <td>1020.000000</td>\n",
       "    </tr>\n",
       "    <tr>\n",
       "      <th>3</th>\n",
       "      <td>39688211</td>\n",
       "      <td>Bellagio</td>\n",
       "      <td>EAN</td>\n",
       "      <td>140596.0</td>\n",
       "      <td>212405074.0</td>\n",
       "      <td>Two Bedroom Bellagio Suite</td>\n",
       "      <td>2King</td>\n",
       "      <td>RoomSize=1530 squarefeet|SmokingAllowed=NotAll...</td>\n",
       "      <td>NaN</td>\n",
       "      <td>SmokingAllowed=NotAllowed</td>\n",
       "      <td>NaN</td>\n",
       "      <td>NaN</td>\n",
       "      <td>NaN</td>\n",
       "      <td>1530.00</td>\n",
       "      <td>squarefeet</td>\n",
       "      <td>1530.0 squarefeet</td>\n",
       "      <td>1530.000000</td>\n",
       "    </tr>\n",
       "    <tr>\n",
       "      <th>4</th>\n",
       "      <td>39688211</td>\n",
       "      <td>Bellagio</td>\n",
       "      <td>BookingCom</td>\n",
       "      <td>186104.0</td>\n",
       "      <td>18610427.0</td>\n",
       "      <td>Bellagio Two Queen Suite</td>\n",
       "      <td>2Queen bed(s)</td>\n",
       "      <td>RoomSize=94.76 squaremeter</td>\n",
       "      <td>NaN</td>\n",
       "      <td>NaN</td>\n",
       "      <td>NaN</td>\n",
       "      <td>NaN</td>\n",
       "      <td>NaN</td>\n",
       "      <td>94.76</td>\n",
       "      <td>squaremeter</td>\n",
       "      <td>94.76 squaremeter</td>\n",
       "      <td>1019.987164</td>\n",
       "    </tr>\n",
       "  </tbody>\n",
       "</table>\n",
       "</div>"
      ],
      "text/plain": [
       "  VervotechId HotelName    Provider  ProviderHotelId  ProviderRoomCode  \\\n",
       "0    39688211  Bellagio  BookingCom         186104.0        18610405.0   \n",
       "1    39688211  Bellagio         EAN         140596.0       201646682.0   \n",
       "2    39688211  Bellagio   Priceline      700076943.0       900316366.0   \n",
       "3    39688211  Bellagio         EAN         140596.0       212405074.0   \n",
       "4    39688211  Bellagio  BookingCom         186104.0        18610427.0   \n",
       "\n",
       "             ProviderRoomName ProviderBedInfo  \\\n",
       "0              Bellagio Suite     King bed(s)   \n",
       "1              Bellagio Suite            King   \n",
       "2              Bellagio Suite            KING   \n",
       "3  Two Bedroom Bellagio Suite           2King   \n",
       "4    Bellagio Two Queen Suite   2Queen bed(s)   \n",
       "\n",
       "                              ProviderAttributesInfo ProviderViewInfo  \\\n",
       "0                         RoomSize=94.76 squaremeter              NaN   \n",
       "1                           RoomSize=1020 squarefeet              NaN   \n",
       "2            RoomSize=1020 squarefeet|HasSofaBed=Yes              NaN   \n",
       "3  RoomSize=1530 squarefeet|SmokingAllowed=NotAll...              NaN   \n",
       "4                         RoomSize=94.76 squaremeter              NaN   \n",
       "\n",
       "                     Smoking Balcony Kitchen         SofaBed  RoomSize  \\\n",
       "0                        NaN     NaN     NaN             NaN     94.76   \n",
       "1                        NaN     NaN     NaN             NaN   1020.00   \n",
       "2                        NaN     NaN     NaN  HasSofaBed=Yes   1020.00   \n",
       "3  SmokingAllowed=NotAllowed     NaN     NaN             NaN   1530.00   \n",
       "4                        NaN     NaN     NaN             NaN     94.76   \n",
       "\n",
       "      RoomArea       RoomSizeArea  RoomInSquareFeet  \n",
       "0  squaremeter  94.76 squaremeter       1019.987164  \n",
       "1   squarefeet  1020.0 squarefeet       1020.000000  \n",
       "2   squarefeet  1020.0 squarefeet       1020.000000  \n",
       "3   squarefeet  1530.0 squarefeet       1530.000000  \n",
       "4  squaremeter  94.76 squaremeter       1019.987164  "
      ]
     },
     "execution_count": 69,
     "metadata": {},
     "output_type": "execute_result"
    }
   ],
   "source": [
    "VTech.head()"
   ]
  },
  {
   "cell_type": "code",
   "execution_count": 70,
   "id": "2fcaf234",
   "metadata": {},
   "outputs": [
    {
     "data": {
      "text/plain": [
       "(39692, 17)"
      ]
     },
     "execution_count": 70,
     "metadata": {},
     "output_type": "execute_result"
    }
   ],
   "source": [
    "VTech.shape"
   ]
  },
  {
   "cell_type": "markdown",
   "id": "64473364",
   "metadata": {},
   "source": [
    "2.3 lets drop the splitted columns"
   ]
  },
  {
   "cell_type": "code",
   "execution_count": 71,
   "id": "f5585928",
   "metadata": {},
   "outputs": [],
   "source": [
    "VTech1=VTech.drop(\"ProviderAttributesInfo\", axis='columns')"
   ]
  },
  {
   "cell_type": "code",
   "execution_count": 72,
   "id": "a40ad9fa",
   "metadata": {},
   "outputs": [],
   "source": [
    "VTech2=VTech1.drop(\"RoomSize\", axis='columns')"
   ]
  },
  {
   "cell_type": "code",
   "execution_count": 73,
   "id": "209c1620",
   "metadata": {},
   "outputs": [],
   "source": [
    "VTech3=VTech2.drop(\"RoomArea\",axis='columns')"
   ]
  },
  {
   "cell_type": "code",
   "execution_count": 74,
   "id": "587f150e",
   "metadata": {},
   "outputs": [],
   "source": [
    "VTech4=VTech3.drop(\"RoomSizeArea\",axis='columns')"
   ]
  },
  {
   "cell_type": "code",
   "execution_count": 75,
   "id": "33b72707",
   "metadata": {},
   "outputs": [
    {
     "data": {
      "text/html": [
       "<div>\n",
       "<style scoped>\n",
       "    .dataframe tbody tr th:only-of-type {\n",
       "        vertical-align: middle;\n",
       "    }\n",
       "\n",
       "    .dataframe tbody tr th {\n",
       "        vertical-align: top;\n",
       "    }\n",
       "\n",
       "    .dataframe thead th {\n",
       "        text-align: right;\n",
       "    }\n",
       "</style>\n",
       "<table border=\"1\" class=\"dataframe\">\n",
       "  <thead>\n",
       "    <tr style=\"text-align: right;\">\n",
       "      <th></th>\n",
       "      <th>VervotechId</th>\n",
       "      <th>HotelName</th>\n",
       "      <th>Provider</th>\n",
       "      <th>ProviderHotelId</th>\n",
       "      <th>ProviderRoomCode</th>\n",
       "      <th>ProviderRoomName</th>\n",
       "      <th>ProviderBedInfo</th>\n",
       "      <th>ProviderViewInfo</th>\n",
       "      <th>Smoking</th>\n",
       "      <th>Balcony</th>\n",
       "      <th>Kitchen</th>\n",
       "      <th>SofaBed</th>\n",
       "      <th>RoomInSquareFeet</th>\n",
       "    </tr>\n",
       "  </thead>\n",
       "  <tbody>\n",
       "    <tr>\n",
       "      <th>0</th>\n",
       "      <td>39688211</td>\n",
       "      <td>Bellagio</td>\n",
       "      <td>BookingCom</td>\n",
       "      <td>186104.0</td>\n",
       "      <td>18610405.0</td>\n",
       "      <td>Bellagio Suite</td>\n",
       "      <td>King bed(s)</td>\n",
       "      <td>NaN</td>\n",
       "      <td>NaN</td>\n",
       "      <td>NaN</td>\n",
       "      <td>NaN</td>\n",
       "      <td>NaN</td>\n",
       "      <td>1019.987164</td>\n",
       "    </tr>\n",
       "    <tr>\n",
       "      <th>1</th>\n",
       "      <td>39688211</td>\n",
       "      <td>Bellagio</td>\n",
       "      <td>EAN</td>\n",
       "      <td>140596.0</td>\n",
       "      <td>201646682.0</td>\n",
       "      <td>Bellagio Suite</td>\n",
       "      <td>King</td>\n",
       "      <td>NaN</td>\n",
       "      <td>NaN</td>\n",
       "      <td>NaN</td>\n",
       "      <td>NaN</td>\n",
       "      <td>NaN</td>\n",
       "      <td>1020.000000</td>\n",
       "    </tr>\n",
       "    <tr>\n",
       "      <th>2</th>\n",
       "      <td>39688211</td>\n",
       "      <td>Bellagio</td>\n",
       "      <td>Priceline</td>\n",
       "      <td>700076943.0</td>\n",
       "      <td>900316366.0</td>\n",
       "      <td>Bellagio Suite</td>\n",
       "      <td>KING</td>\n",
       "      <td>NaN</td>\n",
       "      <td>NaN</td>\n",
       "      <td>NaN</td>\n",
       "      <td>NaN</td>\n",
       "      <td>HasSofaBed=Yes</td>\n",
       "      <td>1020.000000</td>\n",
       "    </tr>\n",
       "    <tr>\n",
       "      <th>3</th>\n",
       "      <td>39688211</td>\n",
       "      <td>Bellagio</td>\n",
       "      <td>EAN</td>\n",
       "      <td>140596.0</td>\n",
       "      <td>212405074.0</td>\n",
       "      <td>Two Bedroom Bellagio Suite</td>\n",
       "      <td>2King</td>\n",
       "      <td>NaN</td>\n",
       "      <td>SmokingAllowed=NotAllowed</td>\n",
       "      <td>NaN</td>\n",
       "      <td>NaN</td>\n",
       "      <td>NaN</td>\n",
       "      <td>1530.000000</td>\n",
       "    </tr>\n",
       "    <tr>\n",
       "      <th>4</th>\n",
       "      <td>39688211</td>\n",
       "      <td>Bellagio</td>\n",
       "      <td>BookingCom</td>\n",
       "      <td>186104.0</td>\n",
       "      <td>18610427.0</td>\n",
       "      <td>Bellagio Two Queen Suite</td>\n",
       "      <td>2Queen bed(s)</td>\n",
       "      <td>NaN</td>\n",
       "      <td>NaN</td>\n",
       "      <td>NaN</td>\n",
       "      <td>NaN</td>\n",
       "      <td>NaN</td>\n",
       "      <td>1019.987164</td>\n",
       "    </tr>\n",
       "  </tbody>\n",
       "</table>\n",
       "</div>"
      ],
      "text/plain": [
       "  VervotechId HotelName    Provider  ProviderHotelId  ProviderRoomCode  \\\n",
       "0    39688211  Bellagio  BookingCom         186104.0        18610405.0   \n",
       "1    39688211  Bellagio         EAN         140596.0       201646682.0   \n",
       "2    39688211  Bellagio   Priceline      700076943.0       900316366.0   \n",
       "3    39688211  Bellagio         EAN         140596.0       212405074.0   \n",
       "4    39688211  Bellagio  BookingCom         186104.0        18610427.0   \n",
       "\n",
       "             ProviderRoomName ProviderBedInfo ProviderViewInfo  \\\n",
       "0              Bellagio Suite     King bed(s)              NaN   \n",
       "1              Bellagio Suite            King              NaN   \n",
       "2              Bellagio Suite            KING              NaN   \n",
       "3  Two Bedroom Bellagio Suite           2King              NaN   \n",
       "4    Bellagio Two Queen Suite   2Queen bed(s)              NaN   \n",
       "\n",
       "                     Smoking Balcony Kitchen         SofaBed  RoomInSquareFeet  \n",
       "0                        NaN     NaN     NaN             NaN       1019.987164  \n",
       "1                        NaN     NaN     NaN             NaN       1020.000000  \n",
       "2                        NaN     NaN     NaN  HasSofaBed=Yes       1020.000000  \n",
       "3  SmokingAllowed=NotAllowed     NaN     NaN             NaN       1530.000000  \n",
       "4                        NaN     NaN     NaN             NaN       1019.987164  "
      ]
     },
     "execution_count": 75,
     "metadata": {},
     "output_type": "execute_result"
    }
   ],
   "source": [
    "VTech4.head()"
   ]
  },
  {
   "cell_type": "code",
   "execution_count": 76,
   "id": "8ab55229",
   "metadata": {},
   "outputs": [
    {
     "data": {
      "text/plain": [
       "(39692, 13)"
      ]
     },
     "execution_count": 76,
     "metadata": {},
     "output_type": "execute_result"
    }
   ],
   "source": [
    "VTech4.shape"
   ]
  },
  {
   "cell_type": "markdown",
   "id": "d527ceac",
   "metadata": {},
   "source": [
    "2.4 Treat missing values "
   ]
  },
  {
   "cell_type": "code",
   "execution_count": 77,
   "id": "e554b45f",
   "metadata": {},
   "outputs": [
    {
     "data": {
      "text/plain": [
       "VervotechId             0\n",
       "HotelName               0\n",
       "Provider                2\n",
       "ProviderHotelId         2\n",
       "ProviderRoomCode        2\n",
       "ProviderRoomName        2\n",
       "ProviderBedInfo      3301\n",
       "ProviderViewInfo    35696\n",
       "Smoking             25880\n",
       "Balcony             36342\n",
       "Kitchen             37977\n",
       "SofaBed             32406\n",
       "RoomInSquareFeet     4512\n",
       "dtype: int64"
      ]
     },
     "execution_count": 77,
     "metadata": {},
     "output_type": "execute_result"
    }
   ],
   "source": [
    "VTech4.isnull().sum()"
   ]
  },
  {
   "cell_type": "code",
   "execution_count": 78,
   "id": "b6ce4f47",
   "metadata": {},
   "outputs": [
    {
     "data": {
      "text/plain": [
       "VervotechId         0.000000\n",
       "HotelName           0.000000\n",
       "Provider            0.000050\n",
       "ProviderHotelId     0.000050\n",
       "ProviderRoomCode    0.000050\n",
       "ProviderRoomName    0.000050\n",
       "ProviderBedInfo     0.083165\n",
       "ProviderViewInfo    0.899325\n",
       "Smoking             0.652021\n",
       "Balcony             0.915600\n",
       "Kitchen             0.956792\n",
       "SofaBed             0.816437\n",
       "RoomInSquareFeet    0.113675\n",
       "dtype: float64"
      ]
     },
     "execution_count": 78,
     "metadata": {},
     "output_type": "execute_result"
    }
   ],
   "source": [
    "VTech4.isnull().mean()"
   ]
  },
  {
   "cell_type": "code",
   "execution_count": 79,
   "id": "da970aa6",
   "metadata": {},
   "outputs": [
    {
     "data": {
      "text/plain": [
       "(39692, 13)"
      ]
     },
     "execution_count": 79,
     "metadata": {},
     "output_type": "execute_result"
    }
   ],
   "source": [
    "VTech4.shape"
   ]
  },
  {
   "cell_type": "markdown",
   "id": "37274f38",
   "metadata": {},
   "source": [
    "2.5 ProviderBedInfo is  having  0.083165 lets drop missing records in ProviderBedInfo"
   ]
  },
  {
   "cell_type": "code",
   "execution_count": 80,
   "id": "d5256229",
   "metadata": {},
   "outputs": [],
   "source": [
    "#drop records with ProviderBedInfo missing\n",
    "VTech5=VTech4[~VTech4.ProviderBedInfo.isnull()].copy()\n"
   ]
  },
  {
   "cell_type": "code",
   "execution_count": 81,
   "id": "f93059e7",
   "metadata": {},
   "outputs": [
    {
     "data": {
      "text/plain": [
       "(36391, 13)"
      ]
     },
     "execution_count": 81,
     "metadata": {},
     "output_type": "execute_result"
    }
   ],
   "source": [
    "VTech5.shape "
   ]
  },
  {
   "cell_type": "code",
   "execution_count": 82,
   "id": "4004dbfa",
   "metadata": {},
   "outputs": [
    {
     "data": {
      "text/plain": [
       "0"
      ]
     },
     "execution_count": 82,
     "metadata": {},
     "output_type": "execute_result"
    }
   ],
   "source": [
    "VTech5.ProviderBedInfo.isnull().sum()"
   ]
  },
  {
   "cell_type": "markdown",
   "id": "44e3f5d5",
   "metadata": {},
   "source": [
    "2.6 RoomInSquareFeet  is having 0.11 missing valus lets lets drop records"
   ]
  },
  {
   "cell_type": "code",
   "execution_count": 83,
   "id": "0e5af6dd",
   "metadata": {},
   "outputs": [],
   "source": [
    "VTech6=VTech5[~VTech5.RoomInSquareFeet.isnull()].copy()\n"
   ]
  },
  {
   "cell_type": "code",
   "execution_count": 84,
   "id": "a95250b5",
   "metadata": {},
   "outputs": [
    {
     "data": {
      "text/plain": [
       "0"
      ]
     },
     "execution_count": 84,
     "metadata": {},
     "output_type": "execute_result"
    }
   ],
   "source": [
    "VTech6.RoomInSquareFeet.isnull().sum()"
   ]
  },
  {
   "cell_type": "code",
   "execution_count": 85,
   "id": "a8859361",
   "metadata": {},
   "outputs": [
    {
     "data": {
      "text/plain": [
       "(31889, 13)"
      ]
     },
     "execution_count": 85,
     "metadata": {},
     "output_type": "execute_result"
    }
   ],
   "source": [
    "VTech6.shape"
   ]
  },
  {
   "cell_type": "markdown",
   "id": "0655da3a",
   "metadata": {},
   "source": [
    "2.7 In our dataset ProviderViewInfo,Smoking,Balcony,Kitchen ,SofaBed are columns having more than 60% missing values and it is irrelevant in our analysis lets drop them"
   ]
  },
  {
   "cell_type": "code",
   "execution_count": 86,
   "id": "faef4a25",
   "metadata": {},
   "outputs": [],
   "source": [
    "VTech7=VTech6.drop(VTech6.columns[VTech6.isnull().mean()>0.65],axis=1)"
   ]
  },
  {
   "cell_type": "code",
   "execution_count": 87,
   "id": "c836c109",
   "metadata": {},
   "outputs": [
    {
     "data": {
      "text/html": [
       "<div>\n",
       "<style scoped>\n",
       "    .dataframe tbody tr th:only-of-type {\n",
       "        vertical-align: middle;\n",
       "    }\n",
       "\n",
       "    .dataframe tbody tr th {\n",
       "        vertical-align: top;\n",
       "    }\n",
       "\n",
       "    .dataframe thead th {\n",
       "        text-align: right;\n",
       "    }\n",
       "</style>\n",
       "<table border=\"1\" class=\"dataframe\">\n",
       "  <thead>\n",
       "    <tr style=\"text-align: right;\">\n",
       "      <th></th>\n",
       "      <th>VervotechId</th>\n",
       "      <th>HotelName</th>\n",
       "      <th>Provider</th>\n",
       "      <th>ProviderHotelId</th>\n",
       "      <th>ProviderRoomCode</th>\n",
       "      <th>ProviderRoomName</th>\n",
       "      <th>ProviderBedInfo</th>\n",
       "      <th>RoomInSquareFeet</th>\n",
       "    </tr>\n",
       "  </thead>\n",
       "  <tbody>\n",
       "    <tr>\n",
       "      <th>0</th>\n",
       "      <td>39688211</td>\n",
       "      <td>Bellagio</td>\n",
       "      <td>BookingCom</td>\n",
       "      <td>186104.0</td>\n",
       "      <td>18610405.0</td>\n",
       "      <td>Bellagio Suite</td>\n",
       "      <td>King bed(s)</td>\n",
       "      <td>1019.987164</td>\n",
       "    </tr>\n",
       "    <tr>\n",
       "      <th>1</th>\n",
       "      <td>39688211</td>\n",
       "      <td>Bellagio</td>\n",
       "      <td>EAN</td>\n",
       "      <td>140596.0</td>\n",
       "      <td>201646682.0</td>\n",
       "      <td>Bellagio Suite</td>\n",
       "      <td>King</td>\n",
       "      <td>1020.000000</td>\n",
       "    </tr>\n",
       "    <tr>\n",
       "      <th>2</th>\n",
       "      <td>39688211</td>\n",
       "      <td>Bellagio</td>\n",
       "      <td>Priceline</td>\n",
       "      <td>700076943.0</td>\n",
       "      <td>900316366.0</td>\n",
       "      <td>Bellagio Suite</td>\n",
       "      <td>KING</td>\n",
       "      <td>1020.000000</td>\n",
       "    </tr>\n",
       "    <tr>\n",
       "      <th>3</th>\n",
       "      <td>39688211</td>\n",
       "      <td>Bellagio</td>\n",
       "      <td>EAN</td>\n",
       "      <td>140596.0</td>\n",
       "      <td>212405074.0</td>\n",
       "      <td>Two Bedroom Bellagio Suite</td>\n",
       "      <td>2King</td>\n",
       "      <td>1530.000000</td>\n",
       "    </tr>\n",
       "    <tr>\n",
       "      <th>4</th>\n",
       "      <td>39688211</td>\n",
       "      <td>Bellagio</td>\n",
       "      <td>BookingCom</td>\n",
       "      <td>186104.0</td>\n",
       "      <td>18610427.0</td>\n",
       "      <td>Bellagio Two Queen Suite</td>\n",
       "      <td>2Queen bed(s)</td>\n",
       "      <td>1019.987164</td>\n",
       "    </tr>\n",
       "  </tbody>\n",
       "</table>\n",
       "</div>"
      ],
      "text/plain": [
       "  VervotechId HotelName    Provider  ProviderHotelId  ProviderRoomCode  \\\n",
       "0    39688211  Bellagio  BookingCom         186104.0        18610405.0   \n",
       "1    39688211  Bellagio         EAN         140596.0       201646682.0   \n",
       "2    39688211  Bellagio   Priceline      700076943.0       900316366.0   \n",
       "3    39688211  Bellagio         EAN         140596.0       212405074.0   \n",
       "4    39688211  Bellagio  BookingCom         186104.0        18610427.0   \n",
       "\n",
       "             ProviderRoomName ProviderBedInfo  RoomInSquareFeet  \n",
       "0              Bellagio Suite     King bed(s)       1019.987164  \n",
       "1              Bellagio Suite            King       1020.000000  \n",
       "2              Bellagio Suite            KING       1020.000000  \n",
       "3  Two Bedroom Bellagio Suite           2King       1530.000000  \n",
       "4    Bellagio Two Queen Suite   2Queen bed(s)       1019.987164  "
      ]
     },
     "execution_count": 87,
     "metadata": {},
     "output_type": "execute_result"
    }
   ],
   "source": [
    "VTech7.head()"
   ]
  },
  {
   "cell_type": "code",
   "execution_count": 88,
   "id": "55342245",
   "metadata": {},
   "outputs": [
    {
     "data": {
      "text/plain": [
       "(31889, 8)"
      ]
     },
     "execution_count": 88,
     "metadata": {},
     "output_type": "execute_result"
    }
   ],
   "source": [
    "VTech7.shape"
   ]
  },
  {
   "cell_type": "code",
   "execution_count": 89,
   "id": "34253be0",
   "metadata": {},
   "outputs": [
    {
     "data": {
      "text/html": [
       "<div>\n",
       "<style scoped>\n",
       "    .dataframe tbody tr th:only-of-type {\n",
       "        vertical-align: middle;\n",
       "    }\n",
       "\n",
       "    .dataframe tbody tr th {\n",
       "        vertical-align: top;\n",
       "    }\n",
       "\n",
       "    .dataframe thead th {\n",
       "        text-align: right;\n",
       "    }\n",
       "</style>\n",
       "<table border=\"1\" class=\"dataframe\">\n",
       "  <thead>\n",
       "    <tr style=\"text-align: right;\">\n",
       "      <th></th>\n",
       "      <th>ProviderHotelId</th>\n",
       "      <th>ProviderRoomCode</th>\n",
       "      <th>RoomInSquareFeet</th>\n",
       "    </tr>\n",
       "  </thead>\n",
       "  <tbody>\n",
       "    <tr>\n",
       "      <th>count</th>\n",
       "      <td>3.188900e+04</td>\n",
       "      <td>3.188900e+04</td>\n",
       "      <td>31889.000000</td>\n",
       "    </tr>\n",
       "    <tr>\n",
       "      <th>mean</th>\n",
       "      <td>2.433139e+08</td>\n",
       "      <td>3.957297e+08</td>\n",
       "      <td>428.930556</td>\n",
       "    </tr>\n",
       "    <tr>\n",
       "      <th>std</th>\n",
       "      <td>3.315932e+08</td>\n",
       "      <td>3.794246e+08</td>\n",
       "      <td>583.133175</td>\n",
       "    </tr>\n",
       "    <tr>\n",
       "      <th>min</th>\n",
       "      <td>9.900000e+01</td>\n",
       "      <td>1.290000e+02</td>\n",
       "      <td>0.000000</td>\n",
       "    </tr>\n",
       "    <tr>\n",
       "      <th>25%</th>\n",
       "      <td>1.811880e+05</td>\n",
       "      <td>3.159300e+07</td>\n",
       "      <td>289.000000</td>\n",
       "    </tr>\n",
       "    <tr>\n",
       "      <th>50%</th>\n",
       "      <td>1.779025e+06</td>\n",
       "      <td>2.070131e+08</td>\n",
       "      <td>340.031601</td>\n",
       "    </tr>\n",
       "    <tr>\n",
       "      <th>75%</th>\n",
       "      <td>7.000478e+08</td>\n",
       "      <td>9.001985e+08</td>\n",
       "      <td>451.000000</td>\n",
       "    </tr>\n",
       "    <tr>\n",
       "      <th>max</th>\n",
       "      <td>7.051761e+08</td>\n",
       "      <td>9.053906e+08</td>\n",
       "      <td>26910.000000</td>\n",
       "    </tr>\n",
       "  </tbody>\n",
       "</table>\n",
       "</div>"
      ],
      "text/plain": [
       "       ProviderHotelId  ProviderRoomCode  RoomInSquareFeet\n",
       "count     3.188900e+04      3.188900e+04      31889.000000\n",
       "mean      2.433139e+08      3.957297e+08        428.930556\n",
       "std       3.315932e+08      3.794246e+08        583.133175\n",
       "min       9.900000e+01      1.290000e+02          0.000000\n",
       "25%       1.811880e+05      3.159300e+07        289.000000\n",
       "50%       1.779025e+06      2.070131e+08        340.031601\n",
       "75%       7.000478e+08      9.001985e+08        451.000000\n",
       "max       7.051761e+08      9.053906e+08      26910.000000"
      ]
     },
     "execution_count": 89,
     "metadata": {},
     "output_type": "execute_result"
    }
   ],
   "source": [
    "VTech7.describe()"
   ]
  },
  {
   "cell_type": "code",
   "execution_count": 90,
   "id": "ded9aaf3",
   "metadata": {},
   "outputs": [
    {
     "name": "stdout",
     "output_type": "stream",
     "text": [
      "<class 'pandas.core.frame.DataFrame'>\n",
      "Int64Index: 31889 entries, 0 to 39691\n",
      "Data columns (total 8 columns):\n",
      " #   Column            Non-Null Count  Dtype  \n",
      "---  ------            --------------  -----  \n",
      " 0   VervotechId       31889 non-null  object \n",
      " 1   HotelName         31889 non-null  object \n",
      " 2   Provider          31889 non-null  object \n",
      " 3   ProviderHotelId   31889 non-null  float64\n",
      " 4   ProviderRoomCode  31889 non-null  float64\n",
      " 5   ProviderRoomName  31889 non-null  object \n",
      " 6   ProviderBedInfo   31889 non-null  object \n",
      " 7   RoomInSquareFeet  31889 non-null  float64\n",
      "dtypes: float64(3), object(5)\n",
      "memory usage: 2.2+ MB\n"
     ]
    }
   ],
   "source": [
    "VTech7.info()"
   ]
  },
  {
   "cell_type": "code",
   "execution_count": 91,
   "id": "58cff922",
   "metadata": {},
   "outputs": [
    {
     "data": {
      "text/plain": [
       "VervotechId         0\n",
       "HotelName           0\n",
       "Provider            0\n",
       "ProviderHotelId     0\n",
       "ProviderRoomCode    0\n",
       "ProviderRoomName    0\n",
       "ProviderBedInfo     0\n",
       "RoomInSquareFeet    0\n",
       "dtype: int64"
      ]
     },
     "execution_count": 91,
     "metadata": {},
     "output_type": "execute_result"
    }
   ],
   "source": [
    "VTech7.isnull().sum()"
   ]
  },
  {
   "cell_type": "markdown",
   "id": "b6586b73",
   "metadata": {},
   "source": [
    "# 3 Prepare data for model building"
   ]
  },
  {
   "cell_type": "markdown",
   "id": "01c31dca",
   "metadata": {},
   "source": [
    " Check the DATATYPE of column "
   ]
  },
  {
   "cell_type": "code",
   "execution_count": 92,
   "id": "3d2905d3",
   "metadata": {},
   "outputs": [
    {
     "name": "stdout",
     "output_type": "stream",
     "text": [
      "<class 'pandas.core.frame.DataFrame'>\n",
      "Int64Index: 31889 entries, 0 to 39691\n",
      "Data columns (total 8 columns):\n",
      " #   Column            Non-Null Count  Dtype \n",
      "---  ------            --------------  ----- \n",
      " 0   VervotechId       31889 non-null  object\n",
      " 1   HotelName         31889 non-null  object\n",
      " 2   Provider          31889 non-null  object\n",
      " 3   ProviderHotelId   31889 non-null  object\n",
      " 4   ProviderRoomCode  31889 non-null  object\n",
      " 5   ProviderRoomName  31889 non-null  object\n",
      " 6   ProviderBedInfo   31889 non-null  object\n",
      " 7   RoomInSquareFeet  31889 non-null  object\n",
      "dtypes: object(8)\n",
      "memory usage: 2.2+ MB\n"
     ]
    }
   ],
   "source": [
    "VTech7=VTech7.astype({\"ProviderHotelId\": 'str', \"ProviderRoomCode\": 'str',\"RoomInSquareFeet\": 'str'})\n",
    "VTech7.info()"
   ]
  },
  {
   "cell_type": "code",
   "execution_count": 105,
   "id": "2839ba9e",
   "metadata": {},
   "outputs": [
    {
     "data": {
      "text/html": [
       "<div>\n",
       "<style scoped>\n",
       "    .dataframe tbody tr th:only-of-type {\n",
       "        vertical-align: middle;\n",
       "    }\n",
       "\n",
       "    .dataframe tbody tr th {\n",
       "        vertical-align: top;\n",
       "    }\n",
       "\n",
       "    .dataframe thead th {\n",
       "        text-align: right;\n",
       "    }\n",
       "</style>\n",
       "<table border=\"1\" class=\"dataframe\">\n",
       "  <thead>\n",
       "    <tr style=\"text-align: right;\">\n",
       "      <th></th>\n",
       "      <th>Cluster</th>\n",
       "      <th>VervotechId</th>\n",
       "      <th>HotelName</th>\n",
       "      <th>Provider</th>\n",
       "      <th>ProviderHotelId</th>\n",
       "      <th>ProviderRoomCode</th>\n",
       "      <th>ProviderRoomName</th>\n",
       "      <th>ProviderBedInfo</th>\n",
       "      <th>RoomInSquareFeet</th>\n",
       "    </tr>\n",
       "  </thead>\n",
       "  <tbody>\n",
       "    <tr>\n",
       "      <th>0</th>\n",
       "      <td>0</td>\n",
       "      <td>1285</td>\n",
       "      <td>73</td>\n",
       "      <td>0</td>\n",
       "      <td>581</td>\n",
       "      <td>2096</td>\n",
       "      <td>630</td>\n",
       "      <td>262</td>\n",
       "      <td>23</td>\n",
       "    </tr>\n",
       "    <tr>\n",
       "      <th>1</th>\n",
       "      <td>2</td>\n",
       "      <td>1285</td>\n",
       "      <td>73</td>\n",
       "      <td>1</td>\n",
       "      <td>228</td>\n",
       "      <td>5921</td>\n",
       "      <td>630</td>\n",
       "      <td>261</td>\n",
       "      <td>24</td>\n",
       "    </tr>\n",
       "    <tr>\n",
       "      <th>2</th>\n",
       "      <td>1</td>\n",
       "      <td>1285</td>\n",
       "      <td>73</td>\n",
       "      <td>2</td>\n",
       "      <td>2747</td>\n",
       "      <td>24671</td>\n",
       "      <td>630</td>\n",
       "      <td>217</td>\n",
       "      <td>24</td>\n",
       "    </tr>\n",
       "    <tr>\n",
       "      <th>3</th>\n",
       "      <td>2</td>\n",
       "      <td>1285</td>\n",
       "      <td>73</td>\n",
       "      <td>1</td>\n",
       "      <td>228</td>\n",
       "      <td>8410</td>\n",
       "      <td>10471</td>\n",
       "      <td>41</td>\n",
       "      <td>321</td>\n",
       "    </tr>\n",
       "    <tr>\n",
       "      <th>4</th>\n",
       "      <td>0</td>\n",
       "      <td>1285</td>\n",
       "      <td>73</td>\n",
       "      <td>0</td>\n",
       "      <td>581</td>\n",
       "      <td>2102</td>\n",
       "      <td>631</td>\n",
       "      <td>68</td>\n",
       "      <td>23</td>\n",
       "    </tr>\n",
       "  </tbody>\n",
       "</table>\n",
       "</div>"
      ],
      "text/plain": [
       "   Cluster  VervotechId  HotelName  Provider  ProviderHotelId  \\\n",
       "0        0         1285         73         0              581   \n",
       "1        2         1285         73         1              228   \n",
       "2        1         1285         73         2             2747   \n",
       "3        2         1285         73         1              228   \n",
       "4        0         1285         73         0              581   \n",
       "\n",
       "   ProviderRoomCode  ProviderRoomName  ProviderBedInfo  RoomInSquareFeet  \n",
       "0              2096               630              262                23  \n",
       "1              5921               630              261                24  \n",
       "2             24671               630              217                24  \n",
       "3              8410             10471               41               321  \n",
       "4              2102               631               68                23  "
      ]
     },
     "execution_count": 105,
     "metadata": {},
     "output_type": "execute_result"
    }
   ],
   "source": [
    "from sklearn import preprocessing\n",
    "le = preprocessing.LabelEncoder()\n",
    "VTech8=VTech7.apply(le.fit_transform)\n",
    "VTech8.head()"
   ]
  },
  {
   "cell_type": "code",
   "execution_count": 94,
   "id": "01a10b5c",
   "metadata": {},
   "outputs": [
    {
     "name": "stdout",
     "output_type": "stream",
     "text": [
      "Defaulting to user installation because normal site-packages is not writeable\n",
      "Requirement already satisfied: kmodes in c:\\users\\anatr\\appdata\\roaming\\python\\python39\\site-packages (0.12.2)\n",
      "Requirement already satisfied: numpy>=1.10.4 in c:\\programdata\\anaconda3\\lib\\site-packages (from kmodes) (1.21.5)\n",
      "Requirement already satisfied: scipy>=0.13.3 in c:\\programdata\\anaconda3\\lib\\site-packages (from kmodes) (1.7.3)\n",
      "Requirement already satisfied: scikit-learn>=0.22.0 in c:\\programdata\\anaconda3\\lib\\site-packages (from kmodes) (1.0.2)\n",
      "Requirement already satisfied: joblib>=0.11 in c:\\programdata\\anaconda3\\lib\\site-packages (from kmodes) (1.1.0)\n",
      "Requirement already satisfied: threadpoolctl>=2.0.0 in c:\\programdata\\anaconda3\\lib\\site-packages (from scikit-learn>=0.22.0->kmodes) (2.2.0)\n",
      "Note: you may need to restart the kernel to use updated packages.\n"
     ]
    }
   ],
   "source": [
    "pip install kmodes"
   ]
  },
  {
   "cell_type": "code",
   "execution_count": 95,
   "id": "1ba106ae",
   "metadata": {},
   "outputs": [],
   "source": [
    "from kmodes.kmodes import KModes\n",
    "import warnings\n",
    "warnings.filterwarnings(\"ignore\") "
   ]
  },
  {
   "cell_type": "markdown",
   "id": "1fd14314",
   "metadata": {},
   "source": [
    "# 4 Elbow curve to find optimal K"
   ]
  },
  {
   "cell_type": "code",
   "execution_count": 106,
   "id": "76dc859c",
   "metadata": {},
   "outputs": [
    {
     "name": "stdout",
     "output_type": "stream",
     "text": [
      "Init: initializing centroids\n",
      "Init: initializing clusters\n",
      "Starting iterations...\n",
      "Run 1, iteration: 1/100, moves: 0, cost: 256872.0\n",
      "Init: initializing centroids\n",
      "Init: initializing clusters\n",
      "Starting iterations...\n",
      "Run 2, iteration: 1/100, moves: 0, cost: 256872.0\n",
      "Init: initializing centroids\n",
      "Init: initializing clusters\n",
      "Starting iterations...\n",
      "Run 3, iteration: 1/100, moves: 0, cost: 256872.0\n",
      "Init: initializing centroids\n",
      "Init: initializing clusters\n",
      "Starting iterations...\n",
      "Run 4, iteration: 1/100, moves: 0, cost: 256872.0\n",
      "Init: initializing centroids\n",
      "Init: initializing clusters\n",
      "Starting iterations...\n",
      "Run 5, iteration: 1/100, moves: 0, cost: 256872.0\n",
      "Best run was number 1\n",
      "Init: initializing centroids\n",
      "Init: initializing clusters\n",
      "Starting iterations...\n",
      "Run 1, iteration: 1/100, moves: 10689, cost: 230286.0\n",
      "Run 1, iteration: 2/100, moves: 495, cost: 230284.0\n",
      "Run 1, iteration: 3/100, moves: 0, cost: 230284.0\n",
      "Init: initializing centroids\n",
      "Init: initializing clusters\n",
      "Starting iterations...\n",
      "Run 2, iteration: 1/100, moves: 10849, cost: 228796.0\n",
      "Run 2, iteration: 2/100, moves: 34, cost: 228796.0\n",
      "Init: initializing centroids\n",
      "Init: initializing clusters\n",
      "Starting iterations...\n",
      "Run 3, iteration: 1/100, moves: 97, cost: 228713.0\n",
      "Init: initializing centroids\n",
      "Init: initializing clusters\n",
      "Starting iterations...\n",
      "Run 4, iteration: 1/100, moves: 1380, cost: 230280.0\n",
      "Init: initializing centroids\n",
      "Init: initializing clusters\n",
      "Starting iterations...\n",
      "Run 5, iteration: 1/100, moves: 339, cost: 229130.0\n",
      "Best run was number 3\n",
      "Init: initializing centroids\n",
      "Init: initializing clusters\n",
      "Starting iterations...\n",
      "Run 1, iteration: 1/100, moves: 63, cost: 204035.0\n",
      "Init: initializing centroids\n",
      "Init: initializing clusters\n",
      "Starting iterations...\n",
      "Run 2, iteration: 1/100, moves: 6293, cost: 204033.0\n",
      "Run 2, iteration: 2/100, moves: 31, cost: 204033.0\n",
      "Init: initializing centroids\n",
      "Init: initializing clusters\n",
      "Starting iterations...\n",
      "Run 3, iteration: 1/100, moves: 228, cost: 226526.0\n",
      "Init: initializing centroids\n",
      "Init: initializing clusters\n",
      "Starting iterations...\n",
      "Run 4, iteration: 1/100, moves: 9947, cost: 204141.0\n",
      "Run 4, iteration: 2/100, moves: 10, cost: 204141.0\n",
      "Init: initializing centroids\n",
      "Init: initializing clusters\n",
      "Starting iterations...\n",
      "Run 5, iteration: 1/100, moves: 427, cost: 228216.0\n",
      "Run 5, iteration: 2/100, moves: 0, cost: 228216.0\n",
      "Best run was number 2\n",
      "Init: initializing centroids\n",
      "Init: initializing clusters\n",
      "Starting iterations...\n",
      "Run 1, iteration: 1/100, moves: 285, cost: 203265.0\n",
      "Init: initializing centroids\n",
      "Init: initializing clusters\n",
      "Starting iterations...\n",
      "Run 2, iteration: 1/100, moves: 191, cost: 203450.0\n",
      "Run 2, iteration: 2/100, moves: 5, cost: 203450.0\n",
      "Init: initializing centroids\n",
      "Init: initializing clusters\n",
      "Starting iterations...\n",
      "Run 3, iteration: 1/100, moves: 203, cost: 202092.0\n",
      "Run 3, iteration: 2/100, moves: 21, cost: 202092.0\n",
      "Init: initializing centroids\n",
      "Init: initializing clusters\n",
      "Starting iterations...\n",
      "Run 4, iteration: 1/100, moves: 9896, cost: 201990.0\n",
      "Run 4, iteration: 2/100, moves: 50, cost: 201986.0\n",
      "Run 4, iteration: 3/100, moves: 0, cost: 201986.0\n",
      "Init: initializing centroids\n",
      "Init: initializing clusters\n",
      "Starting iterations...\n",
      "Run 5, iteration: 1/100, moves: 10200, cost: 202883.0\n",
      "Run 5, iteration: 2/100, moves: 67, cost: 202883.0\n",
      "Best run was number 4\n"
     ]
    },
    {
     "data": {
      "image/png": "[encoded data removed]",
      "text/plain": [
       "<Figure size 432x288 with 1 Axes>"
      ]
     },
     "metadata": {
      "needs_background": "light"
     },
     "output_type": "display_data"
    }
   ],
   "source": [
    "cost = []\n",
    "K = range(1,5)\n",
    "for num_clusters in list(K):\n",
    "    kmode = KModes(n_clusters=num_clusters, init = \"random\", n_init = 5, verbose=1)\n",
    "    kmode.fit_predict(VTech8)\n",
    "    cost.append(kmode.cost_)\n",
    "    \n",
    "plt.plot(K, cost, 'bx-')\n",
    "plt.xlabel('No. of clusters')\n",
    "plt.ylabel('Cost')\n",
    "plt.title('Elbow Method For Optimal k')\n",
    "plt.show()"
   ]
  },
  {
   "cell_type": "markdown",
   "id": "18dadb2d",
   "metadata": {},
   "source": [
    "We can see a bend at K=3 in the above graph indicating 3is the optimal number of clusters."
   ]
  },
  {
   "cell_type": "markdown",
   "id": "86f3a946",
   "metadata": {},
   "source": [
    "# 5 Building the model with 3 clusters"
   ]
  },
  {
   "cell_type": "code",
   "execution_count": 107,
   "id": "fa13499c",
   "metadata": {},
   "outputs": [
    {
     "name": "stdout",
     "output_type": "stream",
     "text": [
      "Init: initializing centroids\n",
      "Init: initializing clusters\n",
      "Starting iterations...\n",
      "Run 1, iteration: 1/100, moves: 998, cost: 226528.0\n",
      "Run 1, iteration: 2/100, moves: 0, cost: 226528.0\n",
      "Init: initializing centroids\n",
      "Init: initializing clusters\n",
      "Starting iterations...\n",
      "Run 2, iteration: 1/100, moves: 4868, cost: 226488.0\n",
      "Run 2, iteration: 2/100, moves: 174, cost: 226488.0\n",
      "Init: initializing centroids\n",
      "Init: initializing clusters\n",
      "Starting iterations...\n",
      "Run 3, iteration: 1/100, moves: 1621, cost: 227261.0\n",
      "Init: initializing centroids\n",
      "Init: initializing clusters\n",
      "Starting iterations...\n",
      "Run 4, iteration: 1/100, moves: 9953, cost: 204141.0\n",
      "Run 4, iteration: 2/100, moves: 8, cost: 204141.0\n",
      "Init: initializing centroids\n",
      "Init: initializing clusters\n",
      "Starting iterations...\n",
      "Run 5, iteration: 1/100, moves: 409, cost: 227820.0\n",
      "Run 5, iteration: 2/100, moves: 16, cost: 227820.0\n",
      "Best run was number 4\n"
     ]
    },
    {
     "data": {
      "text/plain": [
       "array([2, 1, 0, ..., 0, 2, 0], dtype=uint16)"
      ]
     },
     "execution_count": 107,
     "metadata": {},
     "output_type": "execute_result"
    }
   ],
   "source": [
    "kmode = KModes(n_clusters=3, init = \"random\", n_init = 5, verbose=1)\n",
    "clusters= kmode.fit_predict(VTech8)\n",
    "clusters"
   ]
  },
  {
   "cell_type": "markdown",
   "id": "0457152e",
   "metadata": {},
   "source": [
    "# 6 Combining the predicted clusters with the original DF"
   ]
  },
  {
   "cell_type": "code",
   "execution_count": 108,
   "id": "99b54884",
   "metadata": {},
   "outputs": [
    {
     "data": {
      "text/html": [
       "<div>\n",
       "<style scoped>\n",
       "    .dataframe tbody tr th:only-of-type {\n",
       "        vertical-align: middle;\n",
       "    }\n",
       "\n",
       "    .dataframe tbody tr th {\n",
       "        vertical-align: top;\n",
       "    }\n",
       "\n",
       "    .dataframe thead th {\n",
       "        text-align: right;\n",
       "    }\n",
       "</style>\n",
       "<table border=\"1\" class=\"dataframe\">\n",
       "  <thead>\n",
       "    <tr style=\"text-align: right;\">\n",
       "      <th></th>\n",
       "      <th>Cluster</th>\n",
       "      <th>Cluster</th>\n",
       "      <th>VervotechId</th>\n",
       "      <th>HotelName</th>\n",
       "      <th>Provider</th>\n",
       "      <th>ProviderHotelId</th>\n",
       "      <th>ProviderRoomCode</th>\n",
       "      <th>ProviderRoomName</th>\n",
       "      <th>ProviderBedInfo</th>\n",
       "      <th>RoomInSquareFeet</th>\n",
       "    </tr>\n",
       "  </thead>\n",
       "  <tbody>\n",
       "    <tr>\n",
       "      <th>0</th>\n",
       "      <td>2</td>\n",
       "      <td>0</td>\n",
       "      <td>1285</td>\n",
       "      <td>73</td>\n",
       "      <td>0</td>\n",
       "      <td>581</td>\n",
       "      <td>2096</td>\n",
       "      <td>630</td>\n",
       "      <td>262</td>\n",
       "      <td>23</td>\n",
       "    </tr>\n",
       "    <tr>\n",
       "      <th>1</th>\n",
       "      <td>1</td>\n",
       "      <td>2</td>\n",
       "      <td>1285</td>\n",
       "      <td>73</td>\n",
       "      <td>1</td>\n",
       "      <td>228</td>\n",
       "      <td>5921</td>\n",
       "      <td>630</td>\n",
       "      <td>261</td>\n",
       "      <td>24</td>\n",
       "    </tr>\n",
       "    <tr>\n",
       "      <th>2</th>\n",
       "      <td>0</td>\n",
       "      <td>1</td>\n",
       "      <td>1285</td>\n",
       "      <td>73</td>\n",
       "      <td>2</td>\n",
       "      <td>2747</td>\n",
       "      <td>24671</td>\n",
       "      <td>630</td>\n",
       "      <td>217</td>\n",
       "      <td>24</td>\n",
       "    </tr>\n",
       "    <tr>\n",
       "      <th>3</th>\n",
       "      <td>1</td>\n",
       "      <td>2</td>\n",
       "      <td>1285</td>\n",
       "      <td>73</td>\n",
       "      <td>1</td>\n",
       "      <td>228</td>\n",
       "      <td>8410</td>\n",
       "      <td>10471</td>\n",
       "      <td>41</td>\n",
       "      <td>321</td>\n",
       "    </tr>\n",
       "    <tr>\n",
       "      <th>4</th>\n",
       "      <td>2</td>\n",
       "      <td>0</td>\n",
       "      <td>1285</td>\n",
       "      <td>73</td>\n",
       "      <td>0</td>\n",
       "      <td>581</td>\n",
       "      <td>2102</td>\n",
       "      <td>631</td>\n",
       "      <td>68</td>\n",
       "      <td>23</td>\n",
       "    </tr>\n",
       "  </tbody>\n",
       "</table>\n",
       "</div>"
      ],
      "text/plain": [
       "   Cluster  Cluster  VervotechId  HotelName  Provider  ProviderHotelId  \\\n",
       "0        2        0         1285         73         0              581   \n",
       "1        1        2         1285         73         1              228   \n",
       "2        0        1         1285         73         2             2747   \n",
       "3        1        2         1285         73         1              228   \n",
       "4        2        0         1285         73         0              581   \n",
       "\n",
       "   ProviderRoomCode  ProviderRoomName  ProviderBedInfo  RoomInSquareFeet  \n",
       "0              2096               630              262                23  \n",
       "1              5921               630              261                24  \n",
       "2             24671               630              217                24  \n",
       "3              8410             10471               41               321  \n",
       "4              2102               631               68                23  "
      ]
     },
     "execution_count": 108,
     "metadata": {},
     "output_type": "execute_result"
    }
   ],
   "source": [
    "VTech7.insert(0, \"Cluster\", clusters, True)\n",
    "VTech7.head()"
   ]
  },
  {
   "cell_type": "code",
   "execution_count": null,
   "id": "ac8ac8d2",
   "metadata": {},
   "outputs": [],
   "source": []
  },
  {
   "cell_type": "code",
   "execution_count": 99,
   "id": "2589436c",
   "metadata": {},
   "outputs": [
    {
     "name": "stdout",
     "output_type": "stream",
     "text": [
      "[[ 1325   708     0  1739 17867  3868   262   770]\n",
      " [  379   675     2  3663 30972  3982   217   775]\n",
      " [   58   712     1  2193 13686  7611   261   775]]\n"
     ]
    }
   ],
   "source": [
    "print(kmode.cluster_centroids_)"
   ]
  },
  {
   "cell_type": "code",
   "execution_count": null,
   "id": "57cd2689",
   "metadata": {},
   "outputs": [],
   "source": []
  },
  {
   "cell_type": "code",
   "execution_count": null,
   "id": "3e563ed1",
   "metadata": {},
   "outputs": [],
   "source": []
  }
 ],
 "metadata": {
  "kernelspec": {
   "display_name": "Python 3 (ipykernel)",
   "language": "python",
   "name": "python3"
  },
  "language_info": {
   "codemirror_mode": {
    "name": "ipython",
    "version": 3
   },
   "file_extension": ".py",
   "mimetype": "text/x-python",
   "name": "python",
   "nbconvert_exporter": "python",
   "pygments_lexer": "ipython3",
   "version": "3.9.12"
  }
 },
 "nbformat": 4,
 "nbformat_minor": 5
}
